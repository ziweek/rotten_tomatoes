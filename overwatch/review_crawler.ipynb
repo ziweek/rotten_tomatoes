{
 "cells": [
  {
   "cell_type": "code",
   "execution_count": 120,
   "id": "22787579-4f86-4ecd-94c4-9794dcad21d8",
   "metadata": {},
   "outputs": [
    {
     "name": "stdout",
     "output_type": "stream",
     "text": [
      "14/15                 \r"
     ]
    }
   ],
   "source": [
    "from bs4 import BeautifulSoup\n",
    "from selenium import webdriver\n",
    "from selenium.webdriver.common.keys import Keys\n",
    "from selenium.webdriver.common.by import By\n",
    "from selenium.webdriver.common.action_chains import ActionChains\n",
    "import urllib.request as req\n",
    "import pandas as pd\n",
    "import time\n",
    "\n",
    "url = 'https://www.metacritic.com/game/pc/overwatch/user-reviews?sort-by=date&num_items=100&page=0'\n",
    "webdriver_dir = './chromedriver'\n",
    "driver = webdriver.Chrome(webdriver_dir)\n",
    "driver.get(url)\n",
    "\n",
    "soup = BeautifulSoup(driver.page_source, 'lxml')\n",
    "pages = [e.text for e in soup.find_all(class_='page_num')]\n",
    "last_page_num = pages[-1]\n",
    "\n",
    "for i in range(int(last_page_num)):   # int(pages[-1])+1\n",
    "    url = 'https://www.metacritic.com/game/pc/overwatch/user-reviews?sort-by=date&num_items=100&page=' + str(i)\n",
    "    driver.get(url)\n",
    "    time.sleep(5)\n",
    "    \n",
    "    soup = BeautifulSoup(driver.page_source, 'lxml')\n",
    "    \n",
    "    # crawl data\n",
    "    reviews = [e.text.strip() for e in soup.find_all(class_='review_body') if e.span != None]\n",
    "    dates = [e.find(class_='date').text for e in soup.find_all(class_='review_critic')[:-3]]\n",
    "    names = [e.find(class_='name') for e in soup.find_all(class_='review_critic')]\n",
    "    names = [e.find('a').text for e in names[:-3]]\n",
    "    scores = [e.text.strip() for e in soup.find_all(class_='review_grade')[:-3]]\n",
    "    \n",
    "    # DataFrame\n",
    "    context = list(zip(names, dates, scores, reviews))\n",
    "    columns = ['names', 'dates', 'scores', 'reviews']\n",
    "    df = pd.DataFrame(context, columns=columns)\n",
    "    df.to_csv('df_overwatch_' + str(i-1) + '.csv')\n",
    "    print(f'{i}/{last_page_num}                 ', end='\\r')\n",
    "    \n",
    "    # move to next page\n",
    "    # btn_nextPage = driver.find_element(By.CSS_SELECTOR, '#main > div.partial_wrap > div.module.reviews_module.user_reviews_module > div > div.page_nav > div > div.pages > ul > li:nth-child(' + str(i) + ') > a')\n",
    "    # ActionChains(driver).move_to_element(btn_nextPage).click().perform()\n",
    "    # time.sleep(8)\n",
    "\n"
   ]
  },
  {
   "cell_type": "code",
   "execution_count": null,
   "id": "4f8c6602-7131-44da-9ba3-e3af8dee784d",
   "metadata": {},
   "outputs": [],
   "source": []
  }
 ],
 "metadata": {
  "kernelspec": {
   "display_name": "Python 3 (ipykernel)",
   "language": "python",
   "name": "python3"
  },
  "language_info": {
   "codemirror_mode": {
    "name": "ipython",
    "version": 3
   },
   "file_extension": ".py",
   "mimetype": "text/x-python",
   "name": "python",
   "nbconvert_exporter": "python",
   "pygments_lexer": "ipython3",
   "version": "3.9.7"
  }
 },
 "nbformat": 4,
 "nbformat_minor": 5
}
